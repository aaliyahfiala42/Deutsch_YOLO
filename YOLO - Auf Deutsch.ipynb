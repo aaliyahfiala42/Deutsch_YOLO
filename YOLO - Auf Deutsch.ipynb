{
 "cells": [
  {
   "cell_type": "markdown",
   "id": "ec9ab3e8",
   "metadata": {},
   "source": [
    "## Object Detection with ImageAI\n",
    "Tutorial Source: https://towardsdatascience.com/how-to-detect-objects-with-your-webcam-82693c47bd8 \n",
    "\n",
    "ImageAI: https://imageai.readthedocs.io/en/latest/index.html\n"
   ]
  },
  {
   "cell_type": "code",
   "execution_count": 3,
   "id": "14f3e439",
   "metadata": {},
   "outputs": [
    {
     "name": "stdout",
     "output_type": "stream",
     "text": [
      "Collecting tensorflow==2.4.0\n",
      "  Downloading tensorflow-2.4.0-cp37-cp37m-win_amd64.whl (370.7 MB)\n",
      "Collecting numpy~=1.19.2\n",
      "  Downloading numpy-1.19.5-cp37-cp37m-win_amd64.whl (13.2 MB)\n",
      "Requirement already satisfied: tensorboard~=2.4 in c:\\users\\aaliy\\.conda\\envs\\python37\\lib\\site-packages (from tensorflow==2.4.0) (2.4.0)\n",
      "Collecting flatbuffers~=1.12.0\n",
      "  Using cached flatbuffers-1.12-py2.py3-none-any.whl (15 kB)\n",
      "Requirement already satisfied: opt-einsum~=3.3.0 in c:\\users\\aaliy\\.conda\\envs\\python37\\lib\\site-packages (from tensorflow==2.4.0) (3.3.0)\n",
      "Collecting six~=1.15.0\n",
      "  Using cached six-1.15.0-py2.py3-none-any.whl (10 kB)\n",
      "Collecting tensorflow-estimator<2.5.0,>=2.4.0rc0\n",
      "  Downloading tensorflow_estimator-2.4.0-py2.py3-none-any.whl (462 kB)\n",
      "Collecting grpcio~=1.32.0\n",
      "  Downloading grpcio-1.32.0-cp37-cp37m-win_amd64.whl (2.5 MB)\n",
      "Collecting astunparse~=1.6.3\n",
      "  Using cached astunparse-1.6.3-py2.py3-none-any.whl (12 kB)\n",
      "Requirement already satisfied: google-pasta~=0.2 in c:\\users\\aaliy\\.conda\\envs\\python37\\lib\\site-packages (from tensorflow==2.4.0) (0.2.0)\n",
      "Collecting typing-extensions~=3.7.4\n",
      "  Using cached typing_extensions-3.7.4.3-py3-none-any.whl (22 kB)\n",
      "Requirement already satisfied: wheel~=0.35 in c:\\users\\aaliy\\.conda\\envs\\python37\\lib\\site-packages (from tensorflow==2.4.0) (0.37.1)\n",
      "Collecting wrapt~=1.12.1\n",
      "  Using cached wrapt-1.12.1.tar.gz (27 kB)\n",
      "Requirement already satisfied: keras-preprocessing~=1.1.2 in c:\\users\\aaliy\\.conda\\envs\\python37\\lib\\site-packages (from tensorflow==2.4.0) (1.1.2)\n",
      "Requirement already satisfied: protobuf>=3.9.2 in c:\\users\\aaliy\\.conda\\envs\\python37\\lib\\site-packages (from tensorflow==2.4.0) (3.20.1)\n",
      "Requirement already satisfied: h5py~=2.10.0 in c:\\users\\aaliy\\.conda\\envs\\python37\\lib\\site-packages (from tensorflow==2.4.0) (2.10.0)\n",
      "Requirement already satisfied: termcolor~=1.1.0 in c:\\users\\aaliy\\.conda\\envs\\python37\\lib\\site-packages (from tensorflow==2.4.0) (1.1.0)\n",
      "Collecting gast==0.3.3\n",
      "  Downloading gast-0.3.3-py2.py3-none-any.whl (9.7 kB)\n",
      "Requirement already satisfied: absl-py~=0.10 in c:\\users\\aaliy\\.conda\\envs\\python37\\lib\\site-packages (from tensorflow==2.4.0) (0.15.0)\n",
      "Requirement already satisfied: google-auth-oauthlib<0.5,>=0.4.1 in c:\\users\\aaliy\\.conda\\envs\\python37\\lib\\site-packages (from tensorboard~=2.4->tensorflow==2.4.0) (0.4.4)\n",
      "Collecting google-auth<2,>=1.6.3\n",
      "  Downloading google_auth-1.35.0-py2.py3-none-any.whl (152 kB)\n",
      "Requirement already satisfied: setuptools>=41.0.0 in c:\\users\\aaliy\\.conda\\envs\\python37\\lib\\site-packages (from tensorboard~=2.4->tensorflow==2.4.0) (61.2.0)\n",
      "Requirement already satisfied: tensorboard-plugin-wit>=1.6.0 in c:\\users\\aaliy\\.conda\\envs\\python37\\lib\\site-packages (from tensorboard~=2.4->tensorflow==2.4.0) (1.6.0)\n",
      "Requirement already satisfied: markdown>=2.6.8 in c:\\users\\aaliy\\.conda\\envs\\python37\\lib\\site-packages (from tensorboard~=2.4->tensorflow==2.4.0) (3.3.4)\n",
      "Requirement already satisfied: werkzeug>=0.11.15 in c:\\users\\aaliy\\.conda\\envs\\python37\\lib\\site-packages (from tensorboard~=2.4->tensorflow==2.4.0) (0.16.1)\n",
      "Requirement already satisfied: requests<3,>=2.21.0 in c:\\users\\aaliy\\.conda\\envs\\python37\\lib\\site-packages (from tensorboard~=2.4->tensorflow==2.4.0) (2.27.1)\n",
      "Requirement already satisfied: pyasn1-modules>=0.2.1 in c:\\users\\aaliy\\.conda\\envs\\python37\\lib\\site-packages (from google-auth<2,>=1.6.3->tensorboard~=2.4->tensorflow==2.4.0) (0.2.8)\n",
      "Requirement already satisfied: rsa<5,>=3.1.4 in c:\\users\\aaliy\\.conda\\envs\\python37\\lib\\site-packages (from google-auth<2,>=1.6.3->tensorboard~=2.4->tensorflow==2.4.0) (4.7.2)\n",
      "Requirement already satisfied: cachetools<5.0,>=2.0.0 in c:\\users\\aaliy\\.conda\\envs\\python37\\lib\\site-packages (from google-auth<2,>=1.6.3->tensorboard~=2.4->tensorflow==2.4.0) (4.2.2)\n",
      "Requirement already satisfied: requests-oauthlib>=0.7.0 in c:\\users\\aaliy\\.conda\\envs\\python37\\lib\\site-packages (from google-auth-oauthlib<0.5,>=0.4.1->tensorboard~=2.4->tensorflow==2.4.0) (1.3.0)\n",
      "Requirement already satisfied: importlib-metadata in c:\\users\\aaliy\\.conda\\envs\\python37\\lib\\site-packages (from markdown>=2.6.8->tensorboard~=2.4->tensorflow==2.4.0) (4.11.3)\n",
      "Requirement already satisfied: pyasn1<0.5.0,>=0.4.6 in c:\\users\\aaliy\\.conda\\envs\\python37\\lib\\site-packages (from pyasn1-modules>=0.2.1->google-auth<2,>=1.6.3->tensorboard~=2.4->tensorflow==2.4.0) (0.4.8)\n",
      "Requirement already satisfied: urllib3<1.27,>=1.21.1 in c:\\users\\aaliy\\.conda\\envs\\python37\\lib\\site-packages (from requests<3,>=2.21.0->tensorboard~=2.4->tensorflow==2.4.0) (1.26.9)\n",
      "Requirement already satisfied: certifi>=2017.4.17 in c:\\users\\aaliy\\.conda\\envs\\python37\\lib\\site-packages (from requests<3,>=2.21.0->tensorboard~=2.4->tensorflow==2.4.0) (2022.5.18.1)\n",
      "Requirement already satisfied: charset-normalizer~=2.0.0 in c:\\users\\aaliy\\.conda\\envs\\python37\\lib\\site-packages (from requests<3,>=2.21.0->tensorboard~=2.4->tensorflow==2.4.0) (2.0.4)\n",
      "Requirement already satisfied: idna<4,>=2.5 in c:\\users\\aaliy\\.conda\\envs\\python37\\lib\\site-packages (from requests<3,>=2.21.0->tensorboard~=2.4->tensorflow==2.4.0) (3.3)\n",
      "Requirement already satisfied: oauthlib>=3.0.0 in c:\\users\\aaliy\\.conda\\envs\\python37\\lib\\site-packages (from requests-oauthlib>=0.7.0->google-auth-oauthlib<0.5,>=0.4.1->tensorboard~=2.4->tensorflow==2.4.0) (3.1.0)\n",
      "Requirement already satisfied: zipp>=0.5 in c:\\users\\aaliy\\.conda\\envs\\python37\\lib\\site-packages (from importlib-metadata->markdown>=2.6.8->tensorboard~=2.4->tensorflow==2.4.0) (3.8.0)\n",
      "Building wheels for collected packages: wrapt\n",
      "  Building wheel for wrapt (setup.py): started\n",
      "  Building wheel for wrapt (setup.py): finished with status 'done'\n",
      "  Created wheel for wrapt: filename=wrapt-1.12.1-cp37-cp37m-win_amd64.whl size=32608 sha256=05f3546ac8b5f2ab7bc2acc44cf74c4faa9aaad37e6ba38e12b966cc5c6dceab\n",
      "  Stored in directory: c:\\users\\aaliy\\appdata\\local\\pip\\cache\\wheels\\62\\76\\4c\\aa25851149f3f6d9785f6c869387ad82b3fd37582fa8147ac6\n",
      "Successfully built wrapt\n",
      "Installing collected packages: typing-extensions, six, google-auth, numpy, grpcio, wrapt, tensorflow-estimator, gast, flatbuffers, astunparse, tensorflow\n",
      "  Attempting uninstall: typing-extensions\n",
      "    Found existing installation: typing-extensions 4.1.1\n",
      "    Uninstalling typing-extensions-4.1.1:\n",
      "      Successfully uninstalled typing-extensions-4.1.1\n",
      "  Attempting uninstall: six\n",
      "    Found existing installation: six 1.16.0\n",
      "    Uninstalling six-1.16.0:\n",
      "      Successfully uninstalled six-1.16.0\n",
      "  Attempting uninstall: google-auth\n",
      "    Found existing installation: google-auth 2.6.0\n",
      "    Uninstalling google-auth-2.6.0:\n",
      "      Successfully uninstalled google-auth-2.6.0\n",
      "  Attempting uninstall: numpy\n",
      "    Found existing installation: numpy 1.21.5\n",
      "    Uninstalling numpy-1.21.5:\n",
      "      Successfully uninstalled numpy-1.21.5\n",
      "  Attempting uninstall: grpcio\n",
      "    Found existing installation: grpcio 1.42.0\n",
      "    Uninstalling grpcio-1.42.0:\n",
      "      Successfully uninstalled grpcio-1.42.0\n",
      "  Attempting uninstall: wrapt\n",
      "    Found existing installation: wrapt 1.13.3\n",
      "    Uninstalling wrapt-1.13.3:\n",
      "      Successfully uninstalled wrapt-1.13.3\n",
      "  Attempting uninstall: tensorflow-estimator\n",
      "    Found existing installation: tensorflow-estimator 2.6.0\n",
      "    Uninstalling tensorflow-estimator-2.6.0:\n",
      "      Successfully uninstalled tensorflow-estimator-2.6.0\n",
      "  Attempting uninstall: gast\n",
      "    Found existing installation: gast 0.2.2\n",
      "    Uninstalling gast-0.2.2:\n",
      "      Successfully uninstalled gast-0.2.2\n",
      "  Attempting uninstall: tensorflow\n",
      "    Found existing installation: tensorflow 2.1.0\n",
      "    Uninstalling tensorflow-2.1.0:\n",
      "      Successfully uninstalled tensorflow-2.1.0\n",
      "Successfully installed astunparse-1.6.3 flatbuffers-1.12 gast-0.3.3 google-auth-1.35.0 grpcio-1.32.0 numpy-1.19.5 six-1.15.0 tensorflow-2.4.0 tensorflow-estimator-2.4.0 typing-extensions-3.7.4.3 wrapt-1.12.1\n"
     ]
    },
    {
     "name": "stderr",
     "output_type": "stream",
     "text": [
      "ERROR: pip's dependency resolver does not currently take into account all the packages that are installed. This behaviour is the source of the following dependency conflicts.\n",
      "imageai 2.1.6 requires numpy==1.19.3, but you have numpy 1.19.5 which is incompatible.\n"
     ]
    }
   ],
   "source": [
    "!pip install tensorflow==2.4.0"
   ]
  },
  {
   "cell_type": "code",
   "execution_count": null,
   "id": "4315681f",
   "metadata": {},
   "outputs": [],
   "source": [
    "#or Tensorflow-GPU if you have a NVIDIA GPU with CUDA and cuDNN installed\n",
    "\n",
    "#pip install tensorflow-gpu==2.4.0\n"
   ]
  },
  {
   "cell_type": "code",
   "execution_count": 4,
   "id": "b8389af9",
   "metadata": {},
   "outputs": [
    {
     "name": "stdout",
     "output_type": "stream",
     "text": [
      "Requirement already satisfied: keras==2.4.3 in c:\\users\\aaliy\\.conda\\envs\\python37\\lib\\site-packages (2.4.3)\n",
      "Collecting numpy==1.19.3\n",
      "  Using cached numpy-1.19.3-cp37-cp37m-win_amd64.whl (13.2 MB)\n",
      "Requirement already satisfied: pillow==7.0.0 in c:\\users\\aaliy\\.conda\\envs\\python37\\lib\\site-packages (7.0.0)\n",
      "Requirement already satisfied: scipy==1.4.1 in c:\\users\\aaliy\\.conda\\envs\\python37\\lib\\site-packages (1.4.1)\n",
      "Requirement already satisfied: h5py==2.10.0 in c:\\users\\aaliy\\.conda\\envs\\python37\\lib\\site-packages (2.10.0)\n",
      "Requirement already satisfied: matplotlib==3.3.2 in c:\\users\\aaliy\\.conda\\envs\\python37\\lib\\site-packages (3.3.2)\n",
      "Requirement already satisfied: opencv-python in c:\\users\\aaliy\\.conda\\envs\\python37\\lib\\site-packages (4.6.0.66)\n",
      "Requirement already satisfied: keras-resnet==0.2.0 in c:\\users\\aaliy\\.conda\\envs\\python37\\lib\\site-packages (0.2.0)\n",
      "Requirement already satisfied: pyyaml in c:\\users\\aaliy\\.conda\\envs\\python37\\lib\\site-packages (from keras==2.4.3) (6.0)\n",
      "Requirement already satisfied: six in c:\\users\\aaliy\\.conda\\envs\\python37\\lib\\site-packages (from h5py==2.10.0) (1.15.0)\n",
      "Requirement already satisfied: cycler>=0.10 in c:\\users\\aaliy\\.conda\\envs\\python37\\lib\\site-packages (from matplotlib==3.3.2) (0.11.0)\n",
      "Requirement already satisfied: python-dateutil>=2.1 in c:\\users\\aaliy\\.conda\\envs\\python37\\lib\\site-packages (from matplotlib==3.3.2) (2.8.2)\n",
      "Requirement already satisfied: kiwisolver>=1.0.1 in c:\\users\\aaliy\\.conda\\envs\\python37\\lib\\site-packages (from matplotlib==3.3.2) (1.4.2)\n",
      "Requirement already satisfied: pyparsing!=2.0.4,!=2.1.2,!=2.1.6,>=2.0.3 in c:\\users\\aaliy\\.conda\\envs\\python37\\lib\\site-packages (from matplotlib==3.3.2) (3.0.4)\n",
      "Requirement already satisfied: certifi>=2020.06.20 in c:\\users\\aaliy\\.conda\\envs\\python37\\lib\\site-packages (from matplotlib==3.3.2) (2022.5.18.1)\n",
      "Requirement already satisfied: typing-extensions in c:\\users\\aaliy\\.conda\\envs\\python37\\lib\\site-packages (from kiwisolver>=1.0.1->matplotlib==3.3.2) (3.7.4.3)\n",
      "Installing collected packages: numpy\n",
      "  Attempting uninstall: numpy\n",
      "    Found existing installation: numpy 1.19.5\n",
      "    Uninstalling numpy-1.19.5:\n",
      "      Successfully uninstalled numpy-1.19.5\n",
      "Successfully installed numpy-1.19.3\n"
     ]
    }
   ],
   "source": [
    "!pip install keras==2.4.3 numpy==1.19.3 pillow==7.0.0 scipy==1.4.1 h5py==2.10.0 matplotlib==3.3.2 opencv-python keras-resnet==0.2.0"
   ]
  },
  {
   "cell_type": "code",
   "execution_count": 5,
   "id": "10462354",
   "metadata": {},
   "outputs": [
    {
     "name": "stdout",
     "output_type": "stream",
     "text": [
      "Requirement already satisfied: imageai in c:\\users\\aaliy\\.conda\\envs\\python37\\lib\\site-packages (2.1.6)\n",
      "Requirement already satisfied: h5py==2.10.0 in c:\\users\\aaliy\\.conda\\envs\\python37\\lib\\site-packages (from imageai) (2.10.0)\n",
      "Requirement already satisfied: opencv-python in c:\\users\\aaliy\\.conda\\envs\\python37\\lib\\site-packages (from imageai) (4.6.0.66)\n",
      "Requirement already satisfied: pillow==7.0.0 in c:\\users\\aaliy\\.conda\\envs\\python37\\lib\\site-packages (from imageai) (7.0.0)\n",
      "Requirement already satisfied: keras==2.4.3 in c:\\users\\aaliy\\.conda\\envs\\python37\\lib\\site-packages (from imageai) (2.4.3)\n",
      "Requirement already satisfied: matplotlib==3.3.2 in c:\\users\\aaliy\\.conda\\envs\\python37\\lib\\site-packages (from imageai) (3.3.2)\n",
      "Requirement already satisfied: scipy==1.4.1 in c:\\users\\aaliy\\.conda\\envs\\python37\\lib\\site-packages (from imageai) (1.4.1)\n",
      "Requirement already satisfied: keras-resnet==0.2.0 in c:\\users\\aaliy\\.conda\\envs\\python37\\lib\\site-packages (from imageai) (0.2.0)\n",
      "Requirement already satisfied: numpy==1.19.3 in c:\\users\\aaliy\\.conda\\envs\\python37\\lib\\site-packages (from imageai) (1.19.3)\n",
      "Requirement already satisfied: six in c:\\users\\aaliy\\.conda\\envs\\python37\\lib\\site-packages (from h5py==2.10.0->imageai) (1.15.0)\n",
      "Requirement already satisfied: pyyaml in c:\\users\\aaliy\\.conda\\envs\\python37\\lib\\site-packages (from keras==2.4.3->imageai) (6.0)\n",
      "Requirement already satisfied: certifi>=2020.06.20 in c:\\users\\aaliy\\.conda\\envs\\python37\\lib\\site-packages (from matplotlib==3.3.2->imageai) (2022.5.18.1)\n",
      "Requirement already satisfied: python-dateutil>=2.1 in c:\\users\\aaliy\\.conda\\envs\\python37\\lib\\site-packages (from matplotlib==3.3.2->imageai) (2.8.2)\n",
      "Requirement already satisfied: pyparsing!=2.0.4,!=2.1.2,!=2.1.6,>=2.0.3 in c:\\users\\aaliy\\.conda\\envs\\python37\\lib\\site-packages (from matplotlib==3.3.2->imageai) (3.0.4)\n",
      "Requirement already satisfied: cycler>=0.10 in c:\\users\\aaliy\\.conda\\envs\\python37\\lib\\site-packages (from matplotlib==3.3.2->imageai) (0.11.0)\n",
      "Requirement already satisfied: kiwisolver>=1.0.1 in c:\\users\\aaliy\\.conda\\envs\\python37\\lib\\site-packages (from matplotlib==3.3.2->imageai) (1.4.2)\n",
      "Requirement already satisfied: typing-extensions in c:\\users\\aaliy\\.conda\\envs\\python37\\lib\\site-packages (from kiwisolver>=1.0.1->matplotlib==3.3.2->imageai) (3.7.4.3)\n"
     ]
    }
   ],
   "source": [
    "!pip install imageai --upgrade"
   ]
  },
  {
   "cell_type": "code",
   "execution_count": 8,
   "id": "b59d0119",
   "metadata": {},
   "outputs": [],
   "source": [
    "modelpath = \"yolo.h5\" #insert model path"
   ]
  },
  {
   "cell_type": "markdown",
   "id": "1c7a9964",
   "metadata": {},
   "source": [
    "### Load Model"
   ]
  },
  {
   "cell_type": "code",
   "execution_count": 7,
   "id": "6b816a28",
   "metadata": {},
   "outputs": [],
   "source": [
    "from imageai import Detection\n",
    "yolo = Detection.ObjectDetection()\n",
    "yolo.setModelTypeAsYOLOv3()\n",
    "yolo.setModelPath(modelpath)\n",
    "yolo.loadModel()"
   ]
  },
  {
   "cell_type": "markdown",
   "id": "c319911a",
   "metadata": {},
   "source": [
    "### Access Camera"
   ]
  },
  {
   "cell_type": "code",
   "execution_count": 9,
   "id": "813d467f",
   "metadata": {},
   "outputs": [
    {
     "data": {
      "text/plain": [
       "True"
      ]
     },
     "execution_count": 9,
     "metadata": {},
     "output_type": "execute_result"
    }
   ],
   "source": [
    "import cv2\n",
    "cam = cv2.VideoCapture(0) #0=front-cam, 1=back-cam\n",
    "cam.set(cv2.CAP_PROP_FRAME_WIDTH, 1300)\n",
    "cam.set(cv2.CAP_PROP_FRAME_HEIGHT, 1500)"
   ]
  },
  {
   "cell_type": "markdown",
   "id": "878e9a6a",
   "metadata": {},
   "source": [
    "### Load Predictions"
   ]
  },
  {
   "cell_type": "code",
   "execution_count": 13,
   "id": "22683925",
   "metadata": {},
   "outputs": [
    {
     "name": "stderr",
     "output_type": "stream",
     "text": [
      "C:\\Users\\aaliy\\.conda\\envs\\Python37\\lib\\site-packages\\ipykernel_launcher.py:10: DeprecationWarning: 'detectCustomObjectsFromImage()' function has been deprecated and will be removed in future versions of ImageAI. \n",
      " Kindly use 'detectObjectsFromImage()' \n",
      "  # Remove the CWD from sys.path while we load stuff.\n"
     ]
    },
    {
     "ename": "ValueError",
     "evalue": "Ensure you specified correct input image, input type, output type and/or output image path ",
     "output_type": "error",
     "traceback": [
      "\u001b[1;31m---------------------------------------------------------------------------\u001b[0m",
      "\u001b[1;31mKeyboardInterrupt\u001b[0m                         Traceback (most recent call last)",
      "\u001b[1;32m~\\.conda\\envs\\Python37\\lib\\site-packages\\imageai\\Detection\\__init__.py\u001b[0m in \u001b[0;36mdetectObjectsFromImage\u001b[1;34m(self, input_image, output_image_path, input_type, output_type, extract_detected_objects, minimum_percentage_probability, display_percentage_probability, display_object_name, display_box, thread_safe, custom_objects)\u001b[0m\n\u001b[0;32m    305\u001b[0m                             \u001b[1;33m(\u001b[0m\u001b[0mimage_w\u001b[0m\u001b[1;33m,\u001b[0m \u001b[0mimage_h\u001b[0m\u001b[1;33m)\u001b[0m\u001b[1;33m,\u001b[0m\u001b[1;33m\u001b[0m\u001b[1;33m\u001b[0m\u001b[0m\n\u001b[1;32m--> 306\u001b[1;33m                             self.numbers_to_names)\n\u001b[0m\u001b[0;32m    307\u001b[0m \u001b[1;33m\u001b[0m\u001b[0m\n",
      "\u001b[1;32m~\\.conda\\envs\\Python37\\lib\\site-packages\\imageai\\Detection\\YOLO\\utils.py\u001b[0m in \u001b[0;36mretrieve_yolo_detections\u001b[1;34m(yolo_result, anchors, min_probability, nms_thresh, image_input_size, image_size, labels_dict)\u001b[0m\n\u001b[0;32m    310\u001b[0m     \u001b[1;31m# suppress non-maximal boxes\u001b[0m\u001b[1;33m\u001b[0m\u001b[1;33m\u001b[0m\u001b[1;33m\u001b[0m\u001b[0m\n\u001b[1;32m--> 311\u001b[1;33m     \u001b[0mdo_nms\u001b[0m\u001b[1;33m(\u001b[0m\u001b[0mboxes\u001b[0m\u001b[1;33m,\u001b[0m \u001b[0mnms_thresh\u001b[0m\u001b[1;33m)\u001b[0m\u001b[1;33m\u001b[0m\u001b[1;33m\u001b[0m\u001b[0m\n\u001b[0m\u001b[0;32m    312\u001b[0m \u001b[1;33m\u001b[0m\u001b[0m\n",
      "\u001b[1;32m~\\.conda\\envs\\Python37\\lib\\site-packages\\imageai\\Detection\\YOLO\\utils.py\u001b[0m in \u001b[0;36mdo_nms\u001b[1;34m(boxes, nms_thresh)\u001b[0m\n\u001b[0;32m    221\u001b[0m \u001b[1;33m\u001b[0m\u001b[0m\n\u001b[1;32m--> 222\u001b[1;33m             \u001b[1;32mif\u001b[0m \u001b[0mboxes\u001b[0m\u001b[1;33m[\u001b[0m\u001b[0mindex_i\u001b[0m\u001b[1;33m]\u001b[0m\u001b[1;33m.\u001b[0m\u001b[0mclasses\u001b[0m\u001b[1;33m[\u001b[0m\u001b[0mc\u001b[0m\u001b[1;33m]\u001b[0m \u001b[1;33m==\u001b[0m \u001b[1;36m0\u001b[0m\u001b[1;33m:\u001b[0m \u001b[1;32mcontinue\u001b[0m\u001b[1;33m\u001b[0m\u001b[1;33m\u001b[0m\u001b[0m\n\u001b[0m\u001b[0;32m    223\u001b[0m \u001b[1;33m\u001b[0m\u001b[0m\n",
      "\u001b[1;31mKeyboardInterrupt\u001b[0m: ",
      "\nDuring handling of the above exception, another exception occurred:\n",
      "\u001b[1;31mValueError\u001b[0m                                Traceback (most recent call last)",
      "\u001b[1;32m~\\AppData\\Local\\Temp\\ipykernel_11688\\2910593234.py\u001b[0m in \u001b[0;36m<module>\u001b[1;34m\u001b[0m\n\u001b[0;32m      8\u001b[0m                       \u001b[0mminimum_percentage_probability\u001b[0m\u001b[1;33m=\u001b[0m\u001b[1;36m70\u001b[0m\u001b[1;33m,\u001b[0m\u001b[1;33m\u001b[0m\u001b[1;33m\u001b[0m\u001b[0m\n\u001b[0;32m      9\u001b[0m                       \u001b[0mdisplay_percentage_probability\u001b[0m\u001b[1;33m=\u001b[0m\u001b[1;32mFalse\u001b[0m\u001b[1;33m,\u001b[0m\u001b[1;33m\u001b[0m\u001b[1;33m\u001b[0m\u001b[0m\n\u001b[1;32m---> 10\u001b[1;33m                       display_object_name=True)\n\u001b[0m\u001b[0;32m     11\u001b[0m     \u001b[1;31m## display predictions\u001b[0m\u001b[1;33m\u001b[0m\u001b[1;33m\u001b[0m\u001b[1;33m\u001b[0m\u001b[0m\n\u001b[0;32m     12\u001b[0m     \u001b[0mcv2\u001b[0m\u001b[1;33m.\u001b[0m\u001b[0mimshow\u001b[0m\u001b[1;33m(\u001b[0m\u001b[1;34m\"\"\u001b[0m\u001b[1;33m,\u001b[0m \u001b[0mimg\u001b[0m\u001b[1;33m)\u001b[0m\u001b[1;33m\u001b[0m\u001b[1;33m\u001b[0m\u001b[0m\n",
      "\u001b[1;32m~\\.conda\\envs\\Python37\\lib\\site-packages\\imageai\\Detection\\__init__.py\u001b[0m in \u001b[0;36mdetectCustomObjectsFromImage\u001b[1;34m(self, input_image, output_image_path, input_type, output_type, extract_detected_objects, minimum_percentage_probability, display_percentage_probability, display_object_name, display_box, thread_safe, custom_objects)\u001b[0m\n\u001b[0;32m    480\u001b[0m                                             \u001b[0mdisplay_box\u001b[0m\u001b[1;33m=\u001b[0m\u001b[0mdisplay_box\u001b[0m\u001b[1;33m,\u001b[0m\u001b[1;33m\u001b[0m\u001b[1;33m\u001b[0m\u001b[0m\n\u001b[0;32m    481\u001b[0m                                             \u001b[0mthread_safe\u001b[0m\u001b[1;33m=\u001b[0m\u001b[0mthread_safe\u001b[0m\u001b[1;33m,\u001b[0m\u001b[1;33m\u001b[0m\u001b[1;33m\u001b[0m\u001b[0m\n\u001b[1;32m--> 482\u001b[1;33m                                             custom_objects=custom_objects)\n\u001b[0m\u001b[0;32m    483\u001b[0m \u001b[1;33m\u001b[0m\u001b[0m\n\u001b[0;32m    484\u001b[0m \u001b[1;33m\u001b[0m\u001b[0m\n",
      "\u001b[1;32m~\\.conda\\envs\\Python37\\lib\\site-packages\\imageai\\Detection\\__init__.py\u001b[0m in \u001b[0;36mdetectObjectsFromImage\u001b[1;34m(self, input_image, output_image_path, input_type, output_type, extract_detected_objects, minimum_percentage_probability, display_percentage_probability, display_object_name, display_box, thread_safe, custom_objects)\u001b[0m\n\u001b[0;32m    390\u001b[0m             \u001b[1;32mexcept\u001b[0m\u001b[1;33m:\u001b[0m\u001b[1;33m\u001b[0m\u001b[1;33m\u001b[0m\u001b[0m\n\u001b[0;32m    391\u001b[0m                 raise ValueError(\n\u001b[1;32m--> 392\u001b[1;33m                     \"Ensure you specified correct input image, input type, output type and/or output image path \")\n\u001b[0m\u001b[0;32m    393\u001b[0m \u001b[1;33m\u001b[0m\u001b[0m\n\u001b[0;32m    394\u001b[0m     def CustomObjects(self, person=False, bicycle=False, car=False, motorcycle=False, airplane=False,\n",
      "\u001b[1;31mValueError\u001b[0m: Ensure you specified correct input image, input type, output type and/or output image path "
     ]
    }
   ],
   "source": [
    "while True:\n",
    "    ## read frames\n",
    "    ret, img = cam.read()\n",
    "    ## predict yolo\n",
    "    img, preds = yolo.detectCustomObjectsFromImage(input_image=img, \n",
    "                      custom_objects=None, input_type=\"array\",\n",
    "                      output_type=\"array\",\n",
    "                      minimum_percentage_probability=70,\n",
    "                      display_percentage_probability=False,\n",
    "                      display_object_name=True)\n",
    "    ## display predictions\n",
    "    cv2.imshow(\"\", img)\n",
    "    ## press q or Esc to quit    \n",
    "    if (cv2.waitKey(1) & 0xFF == ord(\"q\")) or (cv2.waitKey(1)==27):\n",
    "        break\n",
    "## close camera\n",
    "cam.release()\n",
    "cv2.destroyAllWindows()"
   ]
  },
  {
   "cell_type": "markdown",
   "id": "9e0d29fd",
   "metadata": {},
   "source": [
    "_______________________________________________________________________________________________________________________________"
   ]
  },
  {
   "cell_type": "markdown",
   "id": "0098fbd4",
   "metadata": {},
   "source": [
    "# Implementing Deutsch YOLO\n",
    "\n",
    "Goal is to modify output to show both the english and german translation, in real time\n",
    "1. implement YOLO from scratch\n",
    "2. manually input translations in german for items to identify\n",
    "3. explore implementing NLP model to provide translations\n",
    "\n",
    "Implementing YOLO from Scratch: https://www.maskaravivek.com/post/yolov1/\n",
    "\n",
    "Pascal Dataset: http://host.robots.ox.ac.uk/pascal/VOC/voc2007/\n",
    "\n",
    "Example done with multiple languages: \n",
    "* article: https://changsin.medium.com/yolo-for-language-learning-7f9e974adb34\n",
    "* notebook: https://github.com/changsin/Medium/blob/main/yolo_as_language_teacher/language_teacher_yolov5.ipynb"
   ]
  },
  {
   "cell_type": "code",
   "execution_count": 11,
   "id": "dc061857",
   "metadata": {},
   "outputs": [],
   "source": [
    "import tensorflow as tf\n",
    "import matplotlib.pyplot as plt\n",
    "%matplotlib inline"
   ]
  },
  {
   "cell_type": "code",
   "execution_count": 12,
   "id": "dd974e33",
   "metadata": {},
   "outputs": [
    {
     "name": "stderr",
     "output_type": "stream",
     "text": [
      "'wget' is not recognized as an internal or external command,\n",
      "operable program or batch file.\n",
      "'wget' is not recognized as an internal or external command,\n",
      "operable program or batch file.\n",
      "tar: Error opening archive: Failed to open 'VOCtrainval_06-Nov-2007.tar'\n",
      "tar: Error opening archive: Failed to open 'VOCtest_06-Nov-2007.tar'\n",
      "rm: cannot remove 'VOCtrainval_06-Nov-2007.tar': No such file or directory\n",
      "rm: cannot remove 'VOCtest_06-Nov-2007.tar': No such file or directory\n"
     ]
    }
   ],
   "source": [
    "#import dataset PASCAL VOCH\n"
   ]
  }
 ],
 "metadata": {
  "kernelspec": {
   "display_name": "Python 3 (ipykernel)",
   "language": "python",
   "name": "python3"
  },
  "language_info": {
   "codemirror_mode": {
    "name": "ipython",
    "version": 3
   },
   "file_extension": ".py",
   "mimetype": "text/x-python",
   "name": "python",
   "nbconvert_exporter": "python",
   "pygments_lexer": "ipython3",
   "version": "3.7.13"
  }
 },
 "nbformat": 4,
 "nbformat_minor": 5
}
